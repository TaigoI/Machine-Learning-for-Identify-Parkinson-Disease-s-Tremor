{
 "cells": [
  {
   "cell_type": "code",
   "execution_count": 1,
   "metadata": {
    "collapsed": true
   },
   "outputs": [],
   "source": [
    "import numpy as np\n",
    "\n",
    "class KNNdataprocessor:\n",
    "    def __init__(self, rawdata):\n",
    "        data_result, class_result = [], []\n",
    "        archive_name = []\n",
    "        for individual in rawdata:\n",
    "            archive = individual[0]\n",
    "            archive_name.append(archive)\n",
    "            classification = individual[1]\n",
    "\n",
    "            archive = open(archive,\"r\")\n",
    "            for line in archive:\n",
    "                #all archive's data are readed in 1st line, separated by semicolon\n",
    "                readed_line = line.split(\";\")\n",
    "                if readed_line[-1].isdigit() == False:\n",
    "                    del readed_line[-1]\n",
    "            data_list = [float(data) for data in readed_line]\n",
    "            x_array = [n for n in range(len(data_list))]\n",
    "            fft = np.fft.fftpack.fft(data_list)\n",
    "            powerspectraldensity_list = np.abs(fft)\n",
    "            \n",
    "            maxPSD = max(powerspectraldensity_list)\n",
    "            meanPSD = sum(powerspectraldensity_list)/len(powerspectraldensity_list)\n",
    "            \n",
    "            standartdeviation_list = []\n",
    "            for n in range(len(powerspectraldensity_list)):\n",
    "                try:\n",
    "                    deviation = abs(powerspectraldensity_list[n] - powerspectraldensity_list[n+1])\n",
    "                    standartdeviation_list.append(deviation)\n",
    "                except:\n",
    "                    pass\n",
    "            standartdeviation = sum(standartdeviation_list)/len(standartdeviation_list)\n",
    "\n",
    "            data_result.append( [int(maxPSD), int(meanPSD), int(standartdeviation)] )\n",
    "            class_result.append(classification)\n",
    "        self.result = [data_result, class_result]\n",
    "        self.names = archive_name"
   ]
  },
  {
   "cell_type": "code",
   "execution_count": null,
   "metadata": {
    "collapsed": true
   },
   "outputs": [],
   "source": []
  }
 ],
 "metadata": {
  "kernelspec": {
   "display_name": "Python 3",
   "language": "python",
   "name": "python3"
  },
  "language_info": {
   "codemirror_mode": {
    "name": "ipython",
    "version": 3
   },
   "file_extension": ".py",
   "mimetype": "text/x-python",
   "name": "python",
   "nbconvert_exporter": "python",
   "pygments_lexer": "ipython3",
   "version": "3.6.2"
  }
 },
 "nbformat": 4,
 "nbformat_minor": 2
}
